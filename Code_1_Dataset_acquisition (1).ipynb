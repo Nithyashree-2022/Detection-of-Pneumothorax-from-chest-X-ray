{
  "nbformat": 4,
  "nbformat_minor": 0,
  "metadata": {
    "colab": {
      "name": "Code-1-Dataset acquisition.ipynb",
      "provenance": []
    },
    "kernelspec": {
      "name": "python3",
      "display_name": "Python 3"
    },
    "language_info": {
      "name": "python"
    }
  },
  "cells": [
    {
      "cell_type": "code",
      "source": [
        "from google.colab import drive\n",
        "drive.mount('drive')"
      ],
      "metadata": {
        "id": "DhkUJyVa3wWB",
        "colab": {
          "base_uri": "https://localhost:8080/"
        },
        "outputId": "9afccd24-0474-4d94-b134-f844e85820c7"
      },
      "execution_count": null,
      "outputs": [
        {
          "output_type": "stream",
          "name": "stdout",
          "text": [
            "Drive already mounted at drive; to attempt to forcibly remount, call drive.mount(\"drive\", force_remount=True).\n"
          ]
        }
      ]
    },
    {
      "cell_type": "markdown",
      "source": [
        "0 --> no pneumo, 1 --> has pneumo"
      ],
      "metadata": {
        "id": "GSruK3WvXAE5"
      }
    },
    {
      "cell_type": "markdown",
      "source": [
        "TRAIN SET"
      ],
      "metadata": {
        "id": "j54LhM42mI1A"
      }
    },
    {
      "cell_type": "code",
      "source": [
        "df=pd.read_csv('/content/drive/MyDrive/Pneumothorax project/stage_1_train_images.csv')\n",
        "df"
      ],
      "metadata": {
        "id": "mQrZve1bWte8",
        "colab": {
          "base_uri": "https://localhost:8080/",
          "height": 424
        },
        "outputId": "e1dfc702-2f84-49c6-87c3-b2c05203e426"
      },
      "execution_count": null,
      "outputs": [
        {
          "output_type": "execute_result",
          "data": {
            "text/html": [
              "\n",
              "  <div id=\"df-cad258e3-6a2e-4d2f-b11a-264bb57d7149\">\n",
              "    <div class=\"colab-df-container\">\n",
              "      <div>\n",
              "<style scoped>\n",
              "    .dataframe tbody tr th:only-of-type {\n",
              "        vertical-align: middle;\n",
              "    }\n",
              "\n",
              "    .dataframe tbody tr th {\n",
              "        vertical-align: top;\n",
              "    }\n",
              "\n",
              "    .dataframe thead th {\n",
              "        text-align: right;\n",
              "    }\n",
              "</style>\n",
              "<table border=\"1\" class=\"dataframe\">\n",
              "  <thead>\n",
              "    <tr style=\"text-align: right;\">\n",
              "      <th></th>\n",
              "      <th>new_filename</th>\n",
              "      <th>ImageId</th>\n",
              "      <th>has_pneumo</th>\n",
              "    </tr>\n",
              "  </thead>\n",
              "  <tbody>\n",
              "    <tr>\n",
              "      <th>0</th>\n",
              "      <td>0_train_0_.png</td>\n",
              "      <td>1.2.276.0.7230010.3.1.4.8323329.5597.151787518...</td>\n",
              "      <td>0</td>\n",
              "    </tr>\n",
              "    <tr>\n",
              "      <th>1</th>\n",
              "      <td>1_train_0_.png</td>\n",
              "      <td>1.2.276.0.7230010.3.1.4.8323329.12515.15178752...</td>\n",
              "      <td>0</td>\n",
              "    </tr>\n",
              "    <tr>\n",
              "      <th>2</th>\n",
              "      <td>2_train_1_.png</td>\n",
              "      <td>1.2.276.0.7230010.3.1.4.8323329.4904.151787518...</td>\n",
              "      <td>1</td>\n",
              "    </tr>\n",
              "    <tr>\n",
              "      <th>3</th>\n",
              "      <td>3_train_1_.png</td>\n",
              "      <td>1.2.276.0.7230010.3.1.4.8323329.32579.15178751...</td>\n",
              "      <td>1</td>\n",
              "    </tr>\n",
              "    <tr>\n",
              "      <th>4</th>\n",
              "      <td>4_train_1_.png</td>\n",
              "      <td>1.2.276.0.7230010.3.1.4.8323329.1314.151787516...</td>\n",
              "      <td>1</td>\n",
              "    </tr>\n",
              "    <tr>\n",
              "      <th>...</th>\n",
              "      <td>...</td>\n",
              "      <td>...</td>\n",
              "      <td>...</td>\n",
              "    </tr>\n",
              "    <tr>\n",
              "      <th>10670</th>\n",
              "      <td>10670_train_1_.png</td>\n",
              "      <td>1.2.276.0.7230010.3.1.4.8323329.32459.15178751...</td>\n",
              "      <td>1</td>\n",
              "    </tr>\n",
              "    <tr>\n",
              "      <th>10671</th>\n",
              "      <td>10671_train_1_.png</td>\n",
              "      <td>1.2.276.0.7230010.3.1.4.8323329.4461.151787518...</td>\n",
              "      <td>1</td>\n",
              "    </tr>\n",
              "    <tr>\n",
              "      <th>10672</th>\n",
              "      <td>10672_train_0_.png</td>\n",
              "      <td>1.2.276.0.7230010.3.1.4.8323329.32730.15178751...</td>\n",
              "      <td>0</td>\n",
              "    </tr>\n",
              "    <tr>\n",
              "      <th>10673</th>\n",
              "      <td>10673_train_0_.png</td>\n",
              "      <td>1.2.276.0.7230010.3.1.4.8323329.13252.15178752...</td>\n",
              "      <td>0</td>\n",
              "    </tr>\n",
              "    <tr>\n",
              "      <th>10674</th>\n",
              "      <td>10674_train_0_.png</td>\n",
              "      <td>1.2.276.0.7230010.3.1.4.8323329.12050.15178752...</td>\n",
              "      <td>0</td>\n",
              "    </tr>\n",
              "  </tbody>\n",
              "</table>\n",
              "<p>10675 rows × 3 columns</p>\n",
              "</div>\n",
              "      <button class=\"colab-df-convert\" onclick=\"convertToInteractive('df-cad258e3-6a2e-4d2f-b11a-264bb57d7149')\"\n",
              "              title=\"Convert this dataframe to an interactive table.\"\n",
              "              style=\"display:none;\">\n",
              "        \n",
              "  <svg xmlns=\"http://www.w3.org/2000/svg\" height=\"24px\"viewBox=\"0 0 24 24\"\n",
              "       width=\"24px\">\n",
              "    <path d=\"M0 0h24v24H0V0z\" fill=\"none\"/>\n",
              "    <path d=\"M18.56 5.44l.94 2.06.94-2.06 2.06-.94-2.06-.94-.94-2.06-.94 2.06-2.06.94zm-11 1L8.5 8.5l.94-2.06 2.06-.94-2.06-.94L8.5 2.5l-.94 2.06-2.06.94zm10 10l.94 2.06.94-2.06 2.06-.94-2.06-.94-.94-2.06-.94 2.06-2.06.94z\"/><path d=\"M17.41 7.96l-1.37-1.37c-.4-.4-.92-.59-1.43-.59-.52 0-1.04.2-1.43.59L10.3 9.45l-7.72 7.72c-.78.78-.78 2.05 0 2.83L4 21.41c.39.39.9.59 1.41.59.51 0 1.02-.2 1.41-.59l7.78-7.78 2.81-2.81c.8-.78.8-2.07 0-2.86zM5.41 20L4 18.59l7.72-7.72 1.47 1.35L5.41 20z\"/>\n",
              "  </svg>\n",
              "      </button>\n",
              "      \n",
              "  <style>\n",
              "    .colab-df-container {\n",
              "      display:flex;\n",
              "      flex-wrap:wrap;\n",
              "      gap: 12px;\n",
              "    }\n",
              "\n",
              "    .colab-df-convert {\n",
              "      background-color: #E8F0FE;\n",
              "      border: none;\n",
              "      border-radius: 50%;\n",
              "      cursor: pointer;\n",
              "      display: none;\n",
              "      fill: #1967D2;\n",
              "      height: 32px;\n",
              "      padding: 0 0 0 0;\n",
              "      width: 32px;\n",
              "    }\n",
              "\n",
              "    .colab-df-convert:hover {\n",
              "      background-color: #E2EBFA;\n",
              "      box-shadow: 0px 1px 2px rgba(60, 64, 67, 0.3), 0px 1px 3px 1px rgba(60, 64, 67, 0.15);\n",
              "      fill: #174EA6;\n",
              "    }\n",
              "\n",
              "    [theme=dark] .colab-df-convert {\n",
              "      background-color: #3B4455;\n",
              "      fill: #D2E3FC;\n",
              "    }\n",
              "\n",
              "    [theme=dark] .colab-df-convert:hover {\n",
              "      background-color: #434B5C;\n",
              "      box-shadow: 0px 1px 3px 1px rgba(0, 0, 0, 0.15);\n",
              "      filter: drop-shadow(0px 1px 2px rgba(0, 0, 0, 0.3));\n",
              "      fill: #FFFFFF;\n",
              "    }\n",
              "  </style>\n",
              "\n",
              "      <script>\n",
              "        const buttonEl =\n",
              "          document.querySelector('#df-cad258e3-6a2e-4d2f-b11a-264bb57d7149 button.colab-df-convert');\n",
              "        buttonEl.style.display =\n",
              "          google.colab.kernel.accessAllowed ? 'block' : 'none';\n",
              "\n",
              "        async function convertToInteractive(key) {\n",
              "          const element = document.querySelector('#df-cad258e3-6a2e-4d2f-b11a-264bb57d7149');\n",
              "          const dataTable =\n",
              "            await google.colab.kernel.invokeFunction('convertToInteractive',\n",
              "                                                     [key], {});\n",
              "          if (!dataTable) return;\n",
              "\n",
              "          const docLinkHtml = 'Like what you see? Visit the ' +\n",
              "            '<a target=\"_blank\" href=https://colab.research.google.com/notebooks/data_table.ipynb>data table notebook</a>'\n",
              "            + ' to learn more about interactive tables.';\n",
              "          element.innerHTML = '';\n",
              "          dataTable['output_type'] = 'display_data';\n",
              "          await google.colab.output.renderOutput(dataTable, element);\n",
              "          const docLink = document.createElement('div');\n",
              "          docLink.innerHTML = docLinkHtml;\n",
              "          element.appendChild(docLink);\n",
              "        }\n",
              "      </script>\n",
              "    </div>\n",
              "  </div>\n",
              "  "
            ],
            "text/plain": [
              "             new_filename  ... has_pneumo\n",
              "0          0_train_0_.png  ...          0\n",
              "1          1_train_0_.png  ...          0\n",
              "2          2_train_1_.png  ...          1\n",
              "3          3_train_1_.png  ...          1\n",
              "4          4_train_1_.png  ...          1\n",
              "...                   ...  ...        ...\n",
              "10670  10670_train_1_.png  ...          1\n",
              "10671  10671_train_1_.png  ...          1\n",
              "10672  10672_train_0_.png  ...          0\n",
              "10673  10673_train_0_.png  ...          0\n",
              "10674  10674_train_0_.png  ...          0\n",
              "\n",
              "[10675 rows x 3 columns]"
            ]
          },
          "metadata": {},
          "execution_count": 4
        }
      ]
    },
    {
      "cell_type": "code",
      "source": [
        "no=list(df[df['has_pneumo']==0]['new_filename'])\n",
        "yes=list(df[df['has_pneumo']==1]['new_filename'])"
      ],
      "metadata": {
        "id": "DlO1ojl9WweX"
      },
      "execution_count": null,
      "outputs": []
    },
    {
      "cell_type": "code",
      "source": [
        "yes"
      ],
      "metadata": {
        "id": "CiRt3gSAje4l"
      },
      "execution_count": null,
      "outputs": []
    },
    {
      "cell_type": "code",
      "source": [
        "import cv2\n",
        "path='/content/drive/MyDrive/Pneumothorax project/png_images/'\n",
        "img_path_no='/content/drive/MyDrive/Pneumothorax project/train/no pneumothorax/'\n"
      ],
      "metadata": {
        "id": "j1qgWej-XdsK"
      },
      "execution_count": null,
      "outputs": []
    },
    {
      "cell_type": "code",
      "source": [
        "import shutil"
      ],
      "metadata": {
        "id": "OdAW4GoFY3jM"
      },
      "execution_count": null,
      "outputs": []
    },
    {
      "cell_type": "code",
      "source": [
        "for i in no:\n",
        "  src_path=path+i\n",
        "  dest_path=img_path_no+i\n",
        "  temp=shutil.move(src_path, dest_path)\n",
        "print(\"No folder created and relevant images have been moved\")\n",
        "\n",
        "\n",
        "  \n"
      ],
      "metadata": {
        "id": "vAy4y0RrXMcS"
      },
      "execution_count": null,
      "outputs": []
    },
    {
      "cell_type": "code",
      "source": [
        "img_path_yes='/content/drive/MyDrive/Pneumothorax project/train/pneumothorax/'"
      ],
      "metadata": {
        "id": "7bdMZPJojqWS"
      },
      "execution_count": null,
      "outputs": []
    },
    {
      "cell_type": "code",
      "source": [
        "for i in yes:\n",
        "  src_path=path+i\n",
        "  dest_path=img_path_yes+i\n",
        "  temp=shutil.move(src_path, dest_path)\n",
        "  \n",
        "print(\"Pneumothorax folder created and relevant images have been moved\")\n",
        "  "
      ],
      "metadata": {
        "id": "c7Gumbn5jkwL"
      },
      "execution_count": null,
      "outputs": []
    },
    {
      "cell_type": "markdown",
      "source": [
        "TEST SET"
      ],
      "metadata": {
        "id": "kdNaC35amQxF"
      }
    },
    {
      "cell_type": "code",
      "source": [
        "df=pd.read_csv('/content/drive/MyDrive/Pneumothorax project/stage_1_test_images.csv')\n",
        "df"
      ],
      "metadata": {
        "colab": {
          "base_uri": "https://localhost:8080/",
          "height": 424
        },
        "outputId": "d3ed7278-4af1-4e2d-caa9-61a26d953690",
        "id": "XQ7BO9Icmbiu"
      },
      "execution_count": null,
      "outputs": [
        {
          "output_type": "execute_result",
          "data": {
            "text/html": [
              "\n",
              "  <div id=\"df-d028bb90-5220-4afc-a6ee-78cdb3eaa3ae\">\n",
              "    <div class=\"colab-df-container\">\n",
              "      <div>\n",
              "<style scoped>\n",
              "    .dataframe tbody tr th:only-of-type {\n",
              "        vertical-align: middle;\n",
              "    }\n",
              "\n",
              "    .dataframe tbody tr th {\n",
              "        vertical-align: top;\n",
              "    }\n",
              "\n",
              "    .dataframe thead th {\n",
              "        text-align: right;\n",
              "    }\n",
              "</style>\n",
              "<table border=\"1\" class=\"dataframe\">\n",
              "  <thead>\n",
              "    <tr style=\"text-align: right;\">\n",
              "      <th></th>\n",
              "      <th>new_filename</th>\n",
              "      <th>ImageId</th>\n",
              "      <th>has_pneumo</th>\n",
              "    </tr>\n",
              "  </thead>\n",
              "  <tbody>\n",
              "    <tr>\n",
              "      <th>0</th>\n",
              "      <td>0_test_1_.png</td>\n",
              "      <td>1.2.276.0.7230010.3.1.4.8323329.5797.151787519...</td>\n",
              "      <td>1</td>\n",
              "    </tr>\n",
              "    <tr>\n",
              "      <th>1</th>\n",
              "      <td>1_test_0_.png</td>\n",
              "      <td>1.2.276.0.7230010.3.1.4.8323329.5798.151787519...</td>\n",
              "      <td>0</td>\n",
              "    </tr>\n",
              "    <tr>\n",
              "      <th>2</th>\n",
              "      <td>2_test_0_.png</td>\n",
              "      <td>1.2.276.0.7230010.3.1.4.8323329.5799.151787519...</td>\n",
              "      <td>0</td>\n",
              "    </tr>\n",
              "    <tr>\n",
              "      <th>3</th>\n",
              "      <td>3_test_0_.png</td>\n",
              "      <td>1.2.276.0.7230010.3.1.4.8323329.580.1517875163...</td>\n",
              "      <td>0</td>\n",
              "    </tr>\n",
              "    <tr>\n",
              "      <th>4</th>\n",
              "      <td>4_test_0_.png</td>\n",
              "      <td>1.2.276.0.7230010.3.1.4.8323329.5800.151787519...</td>\n",
              "      <td>0</td>\n",
              "    </tr>\n",
              "    <tr>\n",
              "      <th>...</th>\n",
              "      <td>...</td>\n",
              "      <td>...</td>\n",
              "      <td>...</td>\n",
              "    </tr>\n",
              "    <tr>\n",
              "      <th>1367</th>\n",
              "      <td>1367_test_0_.png</td>\n",
              "      <td>1.2.276.0.7230010.3.1.4.8323329.7049.151787520...</td>\n",
              "      <td>0</td>\n",
              "    </tr>\n",
              "    <tr>\n",
              "      <th>1368</th>\n",
              "      <td>1368_test_1_.png</td>\n",
              "      <td>1.2.276.0.7230010.3.1.4.8323329.705.1517875164...</td>\n",
              "      <td>1</td>\n",
              "    </tr>\n",
              "    <tr>\n",
              "      <th>1369</th>\n",
              "      <td>1369_test_0_.png</td>\n",
              "      <td>1.2.276.0.7230010.3.1.4.8323329.7050.151787520...</td>\n",
              "      <td>0</td>\n",
              "    </tr>\n",
              "    <tr>\n",
              "      <th>1370</th>\n",
              "      <td>1370_test_0_.png</td>\n",
              "      <td>1.2.276.0.7230010.3.1.4.8323329.7051.151787520...</td>\n",
              "      <td>0</td>\n",
              "    </tr>\n",
              "    <tr>\n",
              "      <th>1371</th>\n",
              "      <td>1371_test_0_.png</td>\n",
              "      <td>1.2.276.0.7230010.3.1.4.8323329.7052.151787520...</td>\n",
              "      <td>0</td>\n",
              "    </tr>\n",
              "  </tbody>\n",
              "</table>\n",
              "<p>1372 rows × 3 columns</p>\n",
              "</div>\n",
              "      <button class=\"colab-df-convert\" onclick=\"convertToInteractive('df-d028bb90-5220-4afc-a6ee-78cdb3eaa3ae')\"\n",
              "              title=\"Convert this dataframe to an interactive table.\"\n",
              "              style=\"display:none;\">\n",
              "        \n",
              "  <svg xmlns=\"http://www.w3.org/2000/svg\" height=\"24px\"viewBox=\"0 0 24 24\"\n",
              "       width=\"24px\">\n",
              "    <path d=\"M0 0h24v24H0V0z\" fill=\"none\"/>\n",
              "    <path d=\"M18.56 5.44l.94 2.06.94-2.06 2.06-.94-2.06-.94-.94-2.06-.94 2.06-2.06.94zm-11 1L8.5 8.5l.94-2.06 2.06-.94-2.06-.94L8.5 2.5l-.94 2.06-2.06.94zm10 10l.94 2.06.94-2.06 2.06-.94-2.06-.94-.94-2.06-.94 2.06-2.06.94z\"/><path d=\"M17.41 7.96l-1.37-1.37c-.4-.4-.92-.59-1.43-.59-.52 0-1.04.2-1.43.59L10.3 9.45l-7.72 7.72c-.78.78-.78 2.05 0 2.83L4 21.41c.39.39.9.59 1.41.59.51 0 1.02-.2 1.41-.59l7.78-7.78 2.81-2.81c.8-.78.8-2.07 0-2.86zM5.41 20L4 18.59l7.72-7.72 1.47 1.35L5.41 20z\"/>\n",
              "  </svg>\n",
              "      </button>\n",
              "      \n",
              "  <style>\n",
              "    .colab-df-container {\n",
              "      display:flex;\n",
              "      flex-wrap:wrap;\n",
              "      gap: 12px;\n",
              "    }\n",
              "\n",
              "    .colab-df-convert {\n",
              "      background-color: #E8F0FE;\n",
              "      border: none;\n",
              "      border-radius: 50%;\n",
              "      cursor: pointer;\n",
              "      display: none;\n",
              "      fill: #1967D2;\n",
              "      height: 32px;\n",
              "      padding: 0 0 0 0;\n",
              "      width: 32px;\n",
              "    }\n",
              "\n",
              "    .colab-df-convert:hover {\n",
              "      background-color: #E2EBFA;\n",
              "      box-shadow: 0px 1px 2px rgba(60, 64, 67, 0.3), 0px 1px 3px 1px rgba(60, 64, 67, 0.15);\n",
              "      fill: #174EA6;\n",
              "    }\n",
              "\n",
              "    [theme=dark] .colab-df-convert {\n",
              "      background-color: #3B4455;\n",
              "      fill: #D2E3FC;\n",
              "    }\n",
              "\n",
              "    [theme=dark] .colab-df-convert:hover {\n",
              "      background-color: #434B5C;\n",
              "      box-shadow: 0px 1px 3px 1px rgba(0, 0, 0, 0.15);\n",
              "      filter: drop-shadow(0px 1px 2px rgba(0, 0, 0, 0.3));\n",
              "      fill: #FFFFFF;\n",
              "    }\n",
              "  </style>\n",
              "\n",
              "      <script>\n",
              "        const buttonEl =\n",
              "          document.querySelector('#df-d028bb90-5220-4afc-a6ee-78cdb3eaa3ae button.colab-df-convert');\n",
              "        buttonEl.style.display =\n",
              "          google.colab.kernel.accessAllowed ? 'block' : 'none';\n",
              "\n",
              "        async function convertToInteractive(key) {\n",
              "          const element = document.querySelector('#df-d028bb90-5220-4afc-a6ee-78cdb3eaa3ae');\n",
              "          const dataTable =\n",
              "            await google.colab.kernel.invokeFunction('convertToInteractive',\n",
              "                                                     [key], {});\n",
              "          if (!dataTable) return;\n",
              "\n",
              "          const docLinkHtml = 'Like what you see? Visit the ' +\n",
              "            '<a target=\"_blank\" href=https://colab.research.google.com/notebooks/data_table.ipynb>data table notebook</a>'\n",
              "            + ' to learn more about interactive tables.';\n",
              "          element.innerHTML = '';\n",
              "          dataTable['output_type'] = 'display_data';\n",
              "          await google.colab.output.renderOutput(dataTable, element);\n",
              "          const docLink = document.createElement('div');\n",
              "          docLink.innerHTML = docLinkHtml;\n",
              "          element.appendChild(docLink);\n",
              "        }\n",
              "      </script>\n",
              "    </div>\n",
              "  </div>\n",
              "  "
            ],
            "text/plain": [
              "          new_filename  ... has_pneumo\n",
              "0        0_test_1_.png  ...          1\n",
              "1        1_test_0_.png  ...          0\n",
              "2        2_test_0_.png  ...          0\n",
              "3        3_test_0_.png  ...          0\n",
              "4        4_test_0_.png  ...          0\n",
              "...                ...  ...        ...\n",
              "1367  1367_test_0_.png  ...          0\n",
              "1368  1368_test_1_.png  ...          1\n",
              "1369  1369_test_0_.png  ...          0\n",
              "1370  1370_test_0_.png  ...          0\n",
              "1371  1371_test_0_.png  ...          0\n",
              "\n",
              "[1372 rows x 3 columns]"
            ]
          },
          "metadata": {},
          "execution_count": 18
        }
      ]
    },
    {
      "cell_type": "code",
      "source": [
        "no=list(df[df['has_pneumo']==0]['new_filename'])\n",
        "yes=list(df[df['has_pneumo']==1]['new_filename'])"
      ],
      "metadata": {
        "id": "lCI4aVO7mbiv"
      },
      "execution_count": null,
      "outputs": []
    },
    {
      "cell_type": "code",
      "source": [
        "yes"
      ],
      "metadata": {
        "id": "cm3_9xsFmbiv"
      },
      "execution_count": null,
      "outputs": []
    },
    {
      "cell_type": "code",
      "source": [
        "no"
      ],
      "metadata": {
        "id": "J2tJox_5mpdg"
      },
      "execution_count": null,
      "outputs": []
    },
    {
      "cell_type": "code",
      "source": [
        "import cv2\n",
        "path='/content/drive/MyDrive/Pneumothorax project/png_images/'\n",
        "img_path_no='/content/drive/MyDrive/Pneumothorax project/test/no pneumothorax/'\n"
      ],
      "metadata": {
        "id": "qaCrZglhmbiv"
      },
      "execution_count": null,
      "outputs": []
    },
    {
      "cell_type": "code",
      "source": [
        "for i in no:\n",
        "  src_path=path+i\n",
        "  dest_path=img_path_no+i\n",
        "  temp=shutil.move(src_path, dest_path)\n",
        "print(\"No folder created and relevant images have been moved\")\n",
        "\n",
        "\n",
        "  \n"
      ],
      "metadata": {
        "colab": {
          "base_uri": "https://localhost:8080/"
        },
        "id": "e1qB46dZmbiv",
        "outputId": "37821f54-0b96-4e33-d2d4-8b3a7290d907"
      },
      "execution_count": null,
      "outputs": [
        {
          "output_type": "stream",
          "name": "stdout",
          "text": [
            "No folder created and relevant images have been moved\n"
          ]
        }
      ]
    },
    {
      "cell_type": "code",
      "source": [
        "img_path_yes='/content/drive/MyDrive/Pneumothorax project/test/pneumothorax/'"
      ],
      "metadata": {
        "id": "17W5cMFrmbiw"
      },
      "execution_count": null,
      "outputs": []
    },
    {
      "cell_type": "code",
      "source": [
        "for i in yes:\n",
        "  src_path=path+i\n",
        "  dest_path=img_path_yes+i\n",
        "  temp=shutil.move(src_path, dest_path)\n",
        "  \n",
        "print(\"Pneumothorax folder created and relevant images have been moved\")\n",
        "  "
      ],
      "metadata": {
        "colab": {
          "base_uri": "https://localhost:8080/"
        },
        "id": "rTuFXUBdmbiw",
        "outputId": "d5a87b72-343d-4a16-de64-42457b4ed737"
      },
      "execution_count": null,
      "outputs": [
        {
          "output_type": "stream",
          "name": "stdout",
          "text": [
            "Pneumothorax folder created and relevant images have been moved\n"
          ]
        }
      ]
    }
  ]
}